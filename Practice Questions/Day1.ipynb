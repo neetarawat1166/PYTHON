{
 "cells": [
  {
   "cell_type": "markdown",
   "metadata": {},
   "source": [
    "**Leap Year**"
   ]
  },
  {
   "cell_type": "code",
   "execution_count": 7,
   "metadata": {},
   "outputs": [
    {
     "name": "stdout",
     "output_type": "stream",
     "text": [
      "2024 is a leap year\n"
     ]
    }
   ],
   "source": [
    "year = int(input(\"Enter the year\"))\n",
    "\n",
    "if(year %400 ==0):\n",
    "    print(str(year)+\" is a leap year\")\n",
    "elif(year%100 ==0):\n",
    "    print(str(year)+\" is not a leap year\")\n",
    "elif(year%4==0):\n",
    "    print(str(year)+\" is a leap year\")\n",
    "else:\n",
    "    print(str(year)+\" is not a leap year\")"
   ]
  },
  {
   "cell_type": "markdown",
   "metadata": {},
   "source": [
    "**Even number in a list**"
   ]
  },
  {
   "cell_type": "code",
   "execution_count": 9,
   "metadata": {},
   "outputs": [
    {
     "name": "stdout",
     "output_type": "stream",
     "text": [
      "Even numbers : \n",
      "[2, 4, 6, 8, 10]\n",
      "Odd  numbers : \n",
      "[1, 3, 5, 7, 9]\n"
     ]
    }
   ],
   "source": [
    "# print(\"Enter the range from where you want to print even nmbers : \")\n",
    "# even = int(input(\"Enter start point : \"))\n",
    "# even2 = int(input(\"Enter end point : \"))\n",
    "\n",
    "list1 = [1,2,3,4,5,6,7,8,9,10]\n",
    "print(\"Even numbers : \")\n",
    "print(list1[1::2])\n",
    "\n",
    "\n"
   ]
  },
  {
   "cell_type": "markdown",
   "metadata": {},
   "source": [
    "**Odd nmber in a list**"
   ]
  },
  {
   "cell_type": "code",
   "execution_count": 1,
   "metadata": {},
   "outputs": [
    {
     "name": "stdout",
     "output_type": "stream",
     "text": [
      "Odd  numbers : \n",
      "[1, 3, 5, 7, 9]\n"
     ]
    }
   ],
   "source": [
    "list1 = [1,2,3,4,5,6,7,8,9,10]\n",
    "print(\"Odd  numbers : \")\n",
    "print(list1[::2])"
   ]
  },
  {
   "cell_type": "markdown",
   "metadata": {},
   "source": [
    "**Occurrence of an element in a list**"
   ]
  },
  {
   "cell_type": "code",
   "execution_count": 4,
   "metadata": {},
   "outputs": [
    {
     "name": "stdout",
     "output_type": "stream",
     "text": [
      "[2, 3, 5, 6, 3, 8, 9, 2, 3, 4, 6, 4, 1, 4, 2, 7]\n",
      "Occurrenec of 2 in the present list\n",
      "3\n"
     ]
    }
   ],
   "source": [
    "list1=[2,3,5,6,3,8,9,2,3,4,6,4,1,4,2,7]\n",
    "print(list1)\n",
    "print(\"Occurrenec of 2 in the present list\")\n",
    "count1 = list1.count(2)\n",
    "print(count1)\n"
   ]
  },
  {
   "cell_type": "markdown",
   "metadata": {},
   "source": [
    "**Python program to find words which are greater than given length k**"
   ]
  },
  {
   "cell_type": "code",
   "execution_count": null,
   "metadata": {},
   "outputs": [],
   "source": [
    "list1 = [\"Orange\",\"Apple\",\"Mango\",\"Grapes\",\"Pineapple\",\"Guava\"]\n",
    "k = int(input(\"Enter the length of the string : \"))\n"
   ]
  }
 ],
 "metadata": {
  "kernelspec": {
   "display_name": "Python 3",
   "language": "python",
   "name": "python3"
  },
  "language_info": {
   "codemirror_mode": {
    "name": "ipython",
    "version": 3
   },
   "file_extension": ".py",
   "mimetype": "text/x-python",
   "name": "python",
   "nbconvert_exporter": "python",
   "pygments_lexer": "ipython3",
   "version": "3.10.1"
  }
 },
 "nbformat": 4,
 "nbformat_minor": 2
}
