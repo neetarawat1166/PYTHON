{
 "cells": [
  {
   "cell_type": "code",
   "execution_count": 1,
   "metadata": {},
   "outputs": [
    {
     "data": {
      "text/plain": [
       "('orange', 'mango')"
      ]
     },
     "execution_count": 1,
     "metadata": {},
     "output_type": "execute_result"
    }
   ],
   "source": [
    "x=(\"hello\",\"orange\",\"bye\",\"mango\")\n",
    "x[1:4:2]"
   ]
  },
  {
   "cell_type": "code",
   "execution_count": 2,
   "metadata": {},
   "outputs": [
    {
     "name": "stdout",
     "output_type": "stream",
     "text": [
      "<class 'list'>\n"
     ]
    }
   ],
   "source": [
    "x=[\"hello\",\"my\",\"name\",\"is\",\"neeta\"]\n",
    "print(type(x))"
   ]
  },
  {
   "cell_type": "code",
   "execution_count": 3,
   "metadata": {},
   "outputs": [
    {
     "name": "stdout",
     "output_type": "stream",
     "text": [
      "['Neeta', 'Kittu', 'Jyoti', 234, 445]\n",
      "<class 'list'>\n"
     ]
    }
   ],
   "source": [
    "newlist=list((\"Neeta\",\"Kittu\",\"Jyoti\",234,445))\n",
    "print(newlist)\n",
    "print(type(newlist))"
   ]
  },
  {
   "cell_type": "code",
   "execution_count": 9,
   "metadata": {},
   "outputs": [
    {
     "name": "stdout",
     "output_type": "stream",
     "text": [
      "234\n",
      "Jyoti\n",
      "['Kittu', 'Jyoti']\n",
      "['Neeta', 'Kittu', 'Jyoti']\n",
      "['Kittu', 'Jyoti', 234, 445]\n",
      "['Neeta', 'Kittu']\n",
      "['Kittu', 234]\n",
      "[445, 234, 'Jyoti', 'Kittu', 'Neeta']\n"
     ]
    }
   ],
   "source": [
    "print(newlist[3]) # accessing list elements\n",
    "print(newlist[-3]) # accessing list elements using negative index\n",
    "print(newlist[1:3]) # accesing more than one element\n",
    "print(newlist[:3]) # accesing more than one element\n",
    "print(newlist[1:])# accesing more than one element\n",
    "print(newlist[-5:-3]) # giving negative indexing to access\n",
    "print(newlist[1:5:2])# using skip way\n",
    "print(newlist[::-1])# reversing the element"
   ]
  },
  {
   "cell_type": "code",
   "execution_count": null,
   "metadata": {},
   "outputs": [],
   "source": []
  }
 ],
 "metadata": {
  "kernelspec": {
   "display_name": "Python 3",
   "language": "python",
   "name": "python3"
  },
  "language_info": {
   "codemirror_mode": {
    "name": "ipython",
    "version": 3
   },
   "file_extension": ".py",
   "mimetype": "text/x-python",
   "name": "python",
   "nbconvert_exporter": "python",
   "pygments_lexer": "ipython3",
   "version": "3.10.1"
  }
 },
 "nbformat": 4,
 "nbformat_minor": 2
}
