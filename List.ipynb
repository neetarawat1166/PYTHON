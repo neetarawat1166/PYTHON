{
 "cells": [
  {
   "cell_type": "code",
   "execution_count": 10,
   "metadata": {},
   "outputs": [
    {
     "data": {
      "text/plain": [
       "('orange', 'mango')"
      ]
     },
     "execution_count": 10,
     "metadata": {},
     "output_type": "execute_result"
    }
   ],
   "source": [
    "x=(\"hello\",\"orange\",\"bye\",\"mango\")\n",
    "x[1:4:2]"
   ]
  },
  {
   "cell_type": "code",
   "execution_count": 11,
   "metadata": {},
   "outputs": [
    {
     "name": "stdout",
     "output_type": "stream",
     "text": [
      "<class 'list'>\n"
     ]
    }
   ],
   "source": [
    "x=[\"hello\",\"my\",\"name\",\"is\",\"neeta\"]\n",
    "print(type(x))"
   ]
  },
  {
   "cell_type": "code",
   "execution_count": 12,
   "metadata": {},
   "outputs": [
    {
     "name": "stdout",
     "output_type": "stream",
     "text": [
      "['Neeta', 'Kittu', 'Jyoti', 234, 445]\n",
      "<class 'list'>\n"
     ]
    }
   ],
   "source": [
    "newlist=list((\"Neeta\",\"Kittu\",\"Jyoti\",234,445))\n",
    "print(newlist)\n",
    "print(type(newlist))"
   ]
  },
  {
   "cell_type": "code",
   "execution_count": 13,
   "metadata": {},
   "outputs": [
    {
     "name": "stdout",
     "output_type": "stream",
     "text": [
      "234\n",
      "Jyoti\n",
      "['Kittu', 'Jyoti']\n",
      "['Neeta', 'Kittu', 'Jyoti']\n",
      "['Kittu', 'Jyoti', 234, 445]\n",
      "['Neeta', 'Kittu']\n",
      "['Kittu', 234]\n",
      "[445, 234, 'Jyoti', 'Kittu', 'Neeta']\n"
     ]
    }
   ],
   "source": [
    "print(newlist[3]) # accessing list elements\n",
    "print(newlist[-3]) # accessing list elements using negative index\n",
    "print(newlist[1:3]) # accesing more than one element\n",
    "print(newlist[:3]) # accesing more than one element\n",
    "print(newlist[1:])# accesing more than one element\n",
    "print(newlist[-5:-3]) # giving negative indexing to access\n",
    "print(newlist[1:5:2])# using skip way\n",
    "print(newlist[::-1])# reversing the element"
   ]
  },
  {
   "cell_type": "markdown",
   "metadata": {},
   "source": [
    "**Check if item exists**"
   ]
  },
  {
   "cell_type": "code",
   "execution_count": 15,
   "metadata": {},
   "outputs": [
    {
     "name": "stdout",
     "output_type": "stream",
     "text": [
      "Present\n"
     ]
    }
   ],
   "source": [
    "# in and not in check the elements in the list/tuple ...etc\n",
    "newlist=list((\"Neeta\",\"Kittu\",\"Jyoti\",234,445)) # to check if it is present or not?\n",
    "\n",
    "if 234 in newlist:\n",
    "    print(\"Present\")\n",
    "else:\n",
    "    print(\"Not present\")"
   ]
  },
  {
   "cell_type": "code",
   "execution_count": 18,
   "metadata": {},
   "outputs": [
    {
     "name": "stdout",
     "output_type": "stream",
     "text": [
      "Not present\n"
     ]
    }
   ],
   "source": [
    "newlist=list((\"Neeta\",\"Kittu\",\"Jyoti\",234,445))\n",
    "\n",
    "if \"Neeta\" not in newlist:\n",
    "    print(\"Present\")\n",
    "else:\n",
    "    print(\"Not present\")"
   ]
  },
  {
   "cell_type": "markdown",
   "metadata": {},
   "source": [
    "**Change item value**"
   ]
  },
  {
   "cell_type": "code",
   "execution_count": 19,
   "metadata": {},
   "outputs": [
    {
     "name": "stdout",
     "output_type": "stream",
     "text": [
      "[1, 'neetu', 67, 6, 'kittu', 9, 'Jyoti', 10]\n"
     ]
    }
   ],
   "source": [
    "list=[1,\"neetu\",4,6,\"kittu\",9,\"Jyoti\",10]\n",
    "list[2]=67\n",
    "print(list)"
   ]
  },
  {
   "cell_type": "code",
   "execution_count": 20,
   "metadata": {},
   "outputs": [
    {
     "name": "stdout",
     "output_type": "stream",
     "text": [
      "[1, 'neetu', 4, 6, 'kittu', 9, 67, 10]\n"
     ]
    }
   ],
   "source": [
    "#Changing value of negative index\n",
    "\n",
    "list=[1,\"neetu\",4,6,\"kittu\",9,\"Jyoti\",10]\n",
    "list[-2]=67\n",
    "print(list)"
   ]
  },
  {
   "cell_type": "code",
   "execution_count": null,
   "metadata": {},
   "outputs": [],
   "source": []
  }
 ],
 "metadata": {
  "kernelspec": {
   "display_name": "Python 3",
   "language": "python",
   "name": "python3"
  },
  "language_info": {
   "codemirror_mode": {
    "name": "ipython",
    "version": 3
   },
   "file_extension": ".py",
   "mimetype": "text/x-python",
   "name": "python",
   "nbconvert_exporter": "python",
   "pygments_lexer": "ipython3",
   "version": "3.10.1"
  }
 },
 "nbformat": 4,
 "nbformat_minor": 2
}
