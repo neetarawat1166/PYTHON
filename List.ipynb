{
 "cells": [
  {
   "cell_type": "code",
   "execution_count": 10,
   "metadata": {},
   "outputs": [
    {
     "data": {
      "text/plain": [
       "('orange', 'mango')"
      ]
     },
     "execution_count": 10,
     "metadata": {},
     "output_type": "execute_result"
    }
   ],
   "source": [
    "x=(\"hello\",\"orange\",\"bye\",\"mango\")\n",
    "x[1:4:2]"
   ]
  },
  {
   "cell_type": "code",
   "execution_count": 11,
   "metadata": {},
   "outputs": [
    {
     "name": "stdout",
     "output_type": "stream",
     "text": [
      "<class 'list'>\n"
     ]
    }
   ],
   "source": [
    "x=[\"hello\",\"my\",\"name\",\"is\",\"neeta\"]\n",
    "print(type(x))"
   ]
  },
  {
   "cell_type": "code",
   "execution_count": 12,
   "metadata": {},
   "outputs": [
    {
     "name": "stdout",
     "output_type": "stream",
     "text": [
      "['Neeta', 'Kittu', 'Jyoti', 234, 445]\n",
      "<class 'list'>\n"
     ]
    }
   ],
   "source": [
    "newlist=list((\"Neeta\",\"Kittu\",\"Jyoti\",234,445))\n",
    "print(newlist)\n",
    "print(type(newlist))"
   ]
  },
  {
   "cell_type": "code",
   "execution_count": 13,
   "metadata": {},
   "outputs": [
    {
     "name": "stdout",
     "output_type": "stream",
     "text": [
      "234\n",
      "Jyoti\n",
      "['Kittu', 'Jyoti']\n",
      "['Neeta', 'Kittu', 'Jyoti']\n",
      "['Kittu', 'Jyoti', 234, 445]\n",
      "['Neeta', 'Kittu']\n",
      "['Kittu', 234]\n",
      "[445, 234, 'Jyoti', 'Kittu', 'Neeta']\n"
     ]
    }
   ],
   "source": [
    "print(newlist[3]) # accessing list elements\n",
    "print(newlist[-3]) # accessing list elements using negative index\n",
    "print(newlist[1:3]) # accesing more than one element\n",
    "print(newlist[:3]) # accesing more than one element\n",
    "print(newlist[1:])# accesing more than one element\n",
    "print(newlist[-5:-3]) # giving negative indexing to access\n",
    "print(newlist[1:5:2])# using skip way\n",
    "print(newlist[::-1])# reversing the element"
   ]
  },
  {
   "cell_type": "markdown",
   "metadata": {},
   "source": [
    "**Check if item exists**"
   ]
  },
  {
   "cell_type": "code",
   "execution_count": 15,
   "metadata": {},
   "outputs": [
    {
     "name": "stdout",
     "output_type": "stream",
     "text": [
      "Present\n"
     ]
    }
   ],
   "source": [
    "# in and not in check the elements in the list/tuple ...etc\n",
    "newlist=list((\"Neeta\",\"Kittu\",\"Jyoti\",234,445)) # to check if it is present or not?\n",
    "\n",
    "if 234 in newlist:\n",
    "    print(\"Present\")\n",
    "else:\n",
    "    print(\"Not present\")"
   ]
  },
  {
   "cell_type": "code",
   "execution_count": 18,
   "metadata": {},
   "outputs": [
    {
     "name": "stdout",
     "output_type": "stream",
     "text": [
      "Not present\n"
     ]
    }
   ],
   "source": [
    "newlist=list((\"Neeta\",\"Kittu\",\"Jyoti\",234,445))\n",
    "\n",
    "if \"Neeta\" not in newlist:\n",
    "    print(\"Present\")\n",
    "else:\n",
    "    print(\"Not present\")"
   ]
  },
  {
   "cell_type": "markdown",
   "metadata": {},
   "source": [
    "**Change item value**"
   ]
  },
  {
   "cell_type": "code",
   "execution_count": 19,
   "metadata": {},
   "outputs": [
    {
     "name": "stdout",
     "output_type": "stream",
     "text": [
      "[1, 'neetu', 67, 6, 'kittu', 9, 'Jyoti', 10]\n"
     ]
    }
   ],
   "source": [
    "list=[1,\"neetu\",4,6,\"kittu\",9,\"Jyoti\",10]\n",
    "list[2]=67\n",
    "print(list)"
   ]
  },
  {
   "cell_type": "code",
   "execution_count": 20,
   "metadata": {},
   "outputs": [
    {
     "name": "stdout",
     "output_type": "stream",
     "text": [
      "[1, 'neetu', 4, 6, 'kittu', 9, 67, 10]\n"
     ]
    }
   ],
   "source": [
    "#Changing value of negative index\n",
    "\n",
    "list=[1,\"neetu\",4,6,\"kittu\",9,\"Jyoti\",10]\n",
    "list[-2]=67\n",
    "print(list)"
   ]
  },
  {
   "cell_type": "markdown",
   "metadata": {},
   "source": [
    "**Change the range of an item values**"
   ]
  },
  {
   "cell_type": "code",
   "execution_count": 21,
   "metadata": {},
   "outputs": [
    {
     "name": "stdout",
     "output_type": "stream",
     "text": [
      "['head', 'cheek', 'ear', 'tongue', 'hair', 'skin', 'teeth']\n"
     ]
    }
   ],
   "source": [
    "list=[\"head\",\"neck\",\"eye\",\"hair\",\"skin\",\"teeth\"]\n",
    "list[1:3]=[\"cheek\",\"ear\",\"tongue\"]\n",
    "print(list)"
   ]
  },
  {
   "cell_type": "markdown",
   "metadata": {},
   "source": [
    "**Insert items in the list at specified position**"
   ]
  },
  {
   "cell_type": "code",
   "execution_count": 22,
   "metadata": {},
   "outputs": [
    {
     "name": "stdout",
     "output_type": "stream",
     "text": [
      "['Neeta', 'Kirtika', 'Aditi', 'Jyoti', 'Amisha']\n"
     ]
    }
   ],
   "source": [
    "list=[\"Neeta\",\"Kirtika\",\"Jyoti\",\"Amisha\"] # insert fun add element at any position \n",
    "list.insert(2,\"Aditi\")\n",
    "print(list)"
   ]
  },
  {
   "cell_type": "code",
   "execution_count": 27,
   "metadata": {},
   "outputs": [
    {
     "name": "stdout",
     "output_type": "stream",
     "text": [
      "['Neeta', 'Kirtika', 'Jyoti', 'Amisha', 'Aditi']\n"
     ]
    }
   ],
   "source": [
    "list=[\"Neeta\",\"Kirtika\",\"Jyoti\",\"Amisha\"]  #Append fun add the element at the end of the list\n",
    "list.append(\"Aditi\")\n",
    "print(list)"
   ]
  },
  {
   "cell_type": "markdown",
   "metadata": {},
   "source": [
    "**Extend List**"
   ]
  },
  {
   "cell_type": "code",
   "execution_count": 28,
   "metadata": {},
   "outputs": [
    {
     "name": "stdout",
     "output_type": "stream",
     "text": [
      "['Apple', 'Orange', 'Mango', 'Lichi', 1, 2, 3, 4, 5]\n"
     ]
    }
   ],
   "source": [
    "list=[\"Apple\",\"Orange\",\"Mango\",\"Lichi\"]\n",
    "list2=[1,2,3,4,5]\n",
    "list.extend(list2)\n",
    "print(list)"
   ]
  },
  {
   "cell_type": "markdown",
   "metadata": {},
   "source": [
    "**Remove specified element**"
   ]
  },
  {
   "cell_type": "code",
   "execution_count": 1,
   "metadata": {},
   "outputs": [
    {
     "name": "stdout",
     "output_type": "stream",
     "text": [
      "['Apple', 'Orange', 'Mango', 'Lichi']\n",
      "['Orange', 'Mango', 'Lichi']\n"
     ]
    }
   ],
   "source": [
    "list=[\"Apple\",\"Orange\",\"Mango\",\"Lichi\"]\n",
    "print(list)\n",
    "list.remove(\"Apple\")\n",
    "print(list)"
   ]
  },
  {
   "cell_type": "markdown",
   "metadata": {},
   "source": [
    "**Remove Specified Index**"
   ]
  },
  {
   "cell_type": "code",
   "execution_count": 4,
   "metadata": {},
   "outputs": [
    {
     "name": "stdout",
     "output_type": "stream",
     "text": [
      "['Red', 'orange', 'pink', 'purple', 'blue']\n",
      "['Red', 'orange', 'pink', 'blue']\n"
     ]
    }
   ],
   "source": [
    "list=[\"Red\",\"orange\",\"pink\",\"purple\",\"blue\"]\n",
    "print(list)\n",
    "list.pop(3)\n",
    "print(list)"
   ]
  },
  {
   "cell_type": "code",
   "execution_count": 5,
   "metadata": {},
   "outputs": [
    {
     "name": "stdout",
     "output_type": "stream",
     "text": [
      "['Red', 'orange', 'pink', 'purple', 'blue']\n",
      "['Red', 'orange', 'pink', 'purple']\n"
     ]
    }
   ],
   "source": [
    "#If  we don't assign any index value in pop function then it will remove the last element\n",
    "list=[\"Red\",\"orange\",\"pink\",\"purple\",\"blue\"]\n",
    "print(list)\n",
    "list.pop()\n",
    "print(list)\n"
   ]
  },
  {
   "cell_type": "code",
   "execution_count": 6,
   "metadata": {},
   "outputs": [],
   "source": [
    "# Use of del keyword\n",
    "list=[\"Red\",\"orange\",\"pink\",\"purple\",\"blue\"]\n",
    "del list"
   ]
  },
  {
   "cell_type": "code",
   "execution_count": 7,
   "metadata": {},
   "outputs": [
    {
     "name": "stdout",
     "output_type": "stream",
     "text": [
      "[]\n"
     ]
    }
   ],
   "source": [
    "# Use of clear method\n",
    "#clear method empties the list\n",
    "list=[\"Red\",\"orange\",\"pink\",\"purple\",\"blue\"]\n",
    "list.clear()\n",
    "print(list)"
   ]
  },
  {
   "cell_type": "markdown",
   "metadata": {},
   "source": [
    "**Sort List**"
   ]
  },
  {
   "cell_type": "code",
   "execution_count": 9,
   "metadata": {},
   "outputs": [
    {
     "name": "stdout",
     "output_type": "stream",
     "text": [
      "['Rabbit', 'Pig', 'Dog', 'Cow', 'Cat', 'Buffalo']\n"
     ]
    }
   ],
   "source": [
    "# Sort list in descending order\n",
    "list=[\"Dog\",\"Cat\",\"Cow\",\"Rabbit\",\"Pig\",\"Buffalo\"]\n",
    "list.sort(reverse=True)\n",
    "print(list)"
   ]
  },
  {
   "cell_type": "code",
   "execution_count": 10,
   "metadata": {},
   "outputs": [
    {
     "name": "stdout",
     "output_type": "stream",
     "text": [
      "[1, 5, 2, 7, 8, 9, 4]\n",
      "[1, 2, 4, 5, 7, 8, 9]\n"
     ]
    }
   ],
   "source": [
    "list=[1,5,2,7,8,9,4]\n",
    "print(list)\n",
    "list.sort()\n",
    "print(list)"
   ]
  },
  {
   "cell_type": "markdown",
   "metadata": {},
   "source": [
    "**Case Insensitive Sort**\n",
    "\n",
    "**By default the sort() method is case sensitive, resulting in all capital letters being sorted before lower case letters:**"
   ]
  },
  {
   "cell_type": "code",
   "execution_count": 12,
   "metadata": {},
   "outputs": [
    {
     "name": "stdout",
     "output_type": "stream",
     "text": [
      "['Parrot', 'owl', 'peacock', 'Sparrow', 'pegion']\n",
      "['Parrot', 'Sparrow', 'owl', 'peacock', 'pegion']\n"
     ]
    }
   ],
   "source": [
    "list=[\"Parrot\",\"owl\",\"peacock\",\"Sparrow\",\"pegion\"]\n",
    "print(list)\n",
    "list.sort()\n",
    "print(list)"
   ]
  },
  {
   "cell_type": "markdown",
   "metadata": {},
   "source": [
    "**we can use built-in functions as key functions when sorting a list.**\n",
    "\n",
    "**So if you want a case-insensitive sort function, use str.lower as a key function:**"
   ]
  },
  {
   "cell_type": "code",
   "execution_count": 13,
   "metadata": {},
   "outputs": [
    {
     "name": "stdout",
     "output_type": "stream",
     "text": [
      "['Parrot', 'owl', 'peacock', 'Sparrow', 'pegion']\n",
      "['owl', 'Parrot', 'peacock', 'pegion', 'Sparrow']\n"
     ]
    }
   ],
   "source": [
    "list=[\"Parrot\",\"owl\",\"peacock\",\"Sparrow\",\"pegion\"]\n",
    "print(list)\n",
    "list.sort(key=str.lower)\n",
    "print(list)"
   ]
  },
  {
   "cell_type": "markdown",
   "metadata": {},
   "source": [
    "**Reverse Order**\n",
    "\n",
    "**You cannot copy a list simply by typing list2 = list1, because: list2 will only be a reference to list1, and changes made in list1 will automatically also be made in list2**\n",
    "\n",
    "**There are ways to make a copy, one way is to use the built-in List method copy().**\n"
   ]
  },
  {
   "cell_type": "code",
   "execution_count": 16,
   "metadata": {},
   "outputs": [
    {
     "name": "stdout",
     "output_type": "stream",
     "text": [
      "['Parrot', 'owl', 'peacock', 'Sparrow', 'pegion']\n"
     ]
    }
   ],
   "source": [
    "list=[\"Parrot\",\"owl\",\"peacock\",\"Sparrow\",\"pegion\"]\n",
    "list2=list.copy()\n",
    "print(list2)"
   ]
  },
  {
   "cell_type": "code",
   "execution_count": 17,
   "metadata": {},
   "outputs": [
    {
     "name": "stdout",
     "output_type": "stream",
     "text": [
      "['Parrot', 'owl', 'peacock', 'Sparrow', 'pegion']\n"
     ]
    }
   ],
   "source": [
    "list=[\"Parrot\",\"owl\",\"peacock\",\"Sparrow\",\"pegion\"]\n",
    "list2=list\n",
    "print(list2)"
   ]
  },
  {
   "cell_type": "markdown",
   "metadata": {},
   "source": [
    "**Join two list**\n",
    "\n",
    "**There are several ways to join, or concatenate, two or more lists in Python.**\n",
    "\n",
    "**One of the easiest ways are by using the + operator.**"
   ]
  },
  {
   "cell_type": "code",
   "execution_count": 18,
   "metadata": {},
   "outputs": [
    {
     "name": "stdout",
     "output_type": "stream",
     "text": [
      "['Parrot', 'owl', 'peacock', 'Sparrow', 'pegion']\n",
      "['Dog', 'Cat', 'Cow', 'Rabbit', 'Pig', 'Buffalo']\n",
      "['Parrot', 'owl', 'peacock', 'Sparrow', 'pegion', 'Dog', 'Cat', 'Cow', 'Rabbit', 'Pig', 'Buffalo']\n"
     ]
    }
   ],
   "source": [
    "list=[\"Parrot\",\"owl\",\"peacock\",\"Sparrow\",\"pegion\"]\n",
    "list2=[\"Dog\",\"Cat\",\"Cow\",\"Rabbit\",\"Pig\",\"Buffalo\"]\n",
    "list3=list+list2\n",
    "print(list)\n",
    "print(list2)\n",
    "print(list3)"
   ]
  },
  {
   "cell_type": "code",
   "execution_count": 22,
   "metadata": {},
   "outputs": [
    {
     "name": "stdout",
     "output_type": "stream",
     "text": [
      "['Parrot', 'owl', 'peacock', 'Sparrow', 'pegion']\n",
      "[5, 6, 8, 2, 4, 9]\n",
      "['Parrot', 'owl', 'peacock', 'Sparrow', 'pegion', 5, 6, 8, 2, 4, 9]\n"
     ]
    },
    {
     "data": {
      "text/plain": [
       "1"
      ]
     },
     "execution_count": 22,
     "metadata": {},
     "output_type": "execute_result"
    }
   ],
   "source": [
    "list=[\"Parrot\",\"owl\",\"peacock\",\"Sparrow\",\"pegion\"]\n",
    "list2=[5,6,8,2,4,9]\n",
    "print(list)\n",
    "print(list2) \n",
    "for x in list2:\n",
    "    list.append(x)  \n",
    "print(list)\n",
    "list.count(2)"
   ]
  },
  {
   "cell_type": "code",
   "execution_count": null,
   "metadata": {},
   "outputs": [],
   "source": []
  }
 ],
 "metadata": {
  "kernelspec": {
   "display_name": "Python 3",
   "language": "python",
   "name": "python3"
  },
  "language_info": {
   "codemirror_mode": {
    "name": "ipython",
    "version": 3
   },
   "file_extension": ".py",
   "mimetype": "text/x-python",
   "name": "python",
   "nbconvert_exporter": "python",
   "pygments_lexer": "ipython3",
   "version": "3.10.1"
  }
 },
 "nbformat": 4,
 "nbformat_minor": 2
}
