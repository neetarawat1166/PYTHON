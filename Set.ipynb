{
 "cells": [
  {
   "cell_type": "markdown",
   "metadata": {},
   "source": [
    "**SET**"
   ]
  },
  {
   "cell_type": "code",
   "execution_count": 1,
   "metadata": {},
   "outputs": [
    {
     "name": "stdout",
     "output_type": "stream",
     "text": [
      "{'Neetu', 'Jyoti', 'Kittu'}\n",
      "<class 'set'>\n"
     ]
    }
   ],
   "source": [
    "# A set is collection which is unordered, unchangable, unindexed. It always have unique value.\n",
    "string={\"Neetu\",\"Kittu\",\"Jyoti\"}\n",
    "print(string)\n",
    "print(type(string))"
   ]
  },
  {
   "cell_type": "code",
   "execution_count": 2,
   "metadata": {},
   "outputs": [
    {
     "name": "stdout",
     "output_type": "stream",
     "text": [
      "{'Apple', 'Orange', 'Mango'}\n"
     ]
    }
   ],
   "source": [
    "#Set do not allow duplicate value\n",
    "\n",
    "set1={\"Apple\",\"Orange\",\"Apple\",\"Mango\"}\n",
    "print(set1)"
   ]
  },
  {
   "cell_type": "code",
   "execution_count": 3,
   "metadata": {},
   "outputs": [
    {
     "name": "stdout",
     "output_type": "stream",
     "text": [
      "{False, 1, 3, 5, 6}\n"
     ]
    }
   ],
   "source": [
    "# Set consider Ture and 1 as equal \n",
    "# Set consider False and 0 as equal \n",
    "set1={1,5,6,3,True,False,0}\n",
    "print(set1)"
   ]
  },
  {
   "cell_type": "markdown",
   "metadata": {},
   "source": [
    "**Set Constructor**"
   ]
  },
  {
   "cell_type": "code",
   "execution_count": 4,
   "metadata": {},
   "outputs": [
    {
     "name": "stdout",
     "output_type": "stream",
     "text": [
      "{1, 2, 3, 5, 7, 8}\n"
     ]
    }
   ],
   "source": [
    "s = set((1,5,7,8,2,3))\n",
    "print(s)"
   ]
  },
  {
   "cell_type": "code",
   "execution_count": 5,
   "metadata": {},
   "outputs": [
    {
     "name": "stdout",
     "output_type": "stream",
     "text": [
      "set[2]\n"
     ]
    }
   ],
   "source": [
    "# You cannot access set of items by using  indexing\n",
    "\n",
    "set1={1,5,6,3,True,False,0}\n",
    "print(set[2])"
   ]
  },
  {
   "cell_type": "code",
   "execution_count": 6,
   "metadata": {},
   "outputs": [
    {
     "name": "stdout",
     "output_type": "stream",
     "text": [
      "False\n",
      "1\n",
      "3\n",
      "5\n",
      "6\n"
     ]
    }
   ],
   "source": [
    "set1={1,5,6,3,True,False,0}\n",
    "for x in set1:\n",
    "    print(x)"
   ]
  },
  {
   "cell_type": "markdown",
   "metadata": {},
   "source": [
    "** Use of IN and NOT IN**"
   ]
  },
  {
   "cell_type": "code",
   "execution_count": 7,
   "metadata": {},
   "outputs": [
    {
     "name": "stdout",
     "output_type": "stream",
     "text": [
      "Present\n"
     ]
    }
   ],
   "source": [
    "set1={\"Apple\",\"Orange\",\"Apple\",\"Mango\"}\n",
    "\n",
    "if \"Apple\" in set1:\n",
    "    print(\"Present\")\n",
    "else:\n",
    "    print(\"Not Present\")"
   ]
  },
  {
   "cell_type": "code",
   "execution_count": 8,
   "metadata": {},
   "outputs": [
    {
     "name": "stdout",
     "output_type": "stream",
     "text": [
      "Not Present\n"
     ]
    }
   ],
   "source": [
    "set1={\"Apple\",\"Orange\",\"Apple\",\"Mango\"}\n",
    "\n",
    "if \"Apple\" not in set1:\n",
    "    print(\"Present\")\n",
    "else:\n",
    "    print(\"Not Present\")"
   ]
  },
  {
   "cell_type": "code",
   "execution_count": 9,
   "metadata": {},
   "outputs": [
    {
     "name": "stdout",
     "output_type": "stream",
     "text": [
      "{'Apple', 'Lichi', 'Orange', 'Mango'}\n"
     ]
    }
   ],
   "source": [
    "set1={\"Apple\",\"Orange\",\"Apple\",\"Mango\"} # Use of add() function\n",
    "set1.add(\"Lichi\")\n",
    "print(set1)"
   ]
  },
  {
   "cell_type": "code",
   "execution_count": 10,
   "metadata": {},
   "outputs": [
    {
     "name": "stdout",
     "output_type": "stream",
     "text": [
      "{'Guava', 'Apple', 'Orange', 'Mango'}\n",
      "{'Apple', 'Orange', 'Guava', 'Grapes', 'Mango'}\n"
     ]
    }
   ],
   "source": [
    "set1={\"Apple\",\"Orange\",\"Guava\",\"Mango\"} ##Giving error\n",
    "print(set1)\n",
    "set1.update([\"Orange\",\"Grapes\"])\n",
    "print(set1)\n"
   ]
  },
  {
   "cell_type": "code",
   "execution_count": 11,
   "metadata": {},
   "outputs": [
    {
     "name": "stdout",
     "output_type": "stream",
     "text": [
      "{'Apple', 'Orange', 'Mango'}\n"
     ]
    }
   ],
   "source": [
    "set1={\"Apple\",\"Orange\",\"Guava\",\"Mango\"}\n",
    "set1.remove(\"Guava\")\n",
    "print(set1)"
   ]
  },
  {
   "cell_type": "code",
   "execution_count": 12,
   "metadata": {},
   "outputs": [
    {
     "name": "stdout",
     "output_type": "stream",
     "text": [
      "{1, 2, 4, 6, 7, 8, 'Apple', 'Orange', 'Guava', 'Mango'}\n"
     ]
    }
   ],
   "source": [
    "set1={\"Apple\",\"Orange\",\"Guava\",\"Mango\"}\n",
    "set2={1,2,4,6,7,8}\n",
    "set1.update(set2)\n",
    "print(set1)"
   ]
  },
  {
   "cell_type": "code",
   "execution_count": 13,
   "metadata": {},
   "outputs": [
    {
     "name": "stdout",
     "output_type": "stream",
     "text": [
      "{0, 1, 2, 4, 6, 8, 'Apple', 'Orange', 'Guava', 'Mango'}\n",
      "<class 'set'>\n"
     ]
    }
   ],
   "source": [
    "set1={\"Apple\",\"Orange\",\"Guava\",\"Mango\"}\n",
    "list1=[1,6,8,0,2,4]\n",
    "set1.update(list1)\n",
    "print(set1)\n",
    "print(type(set1))"
   ]
  },
  {
   "cell_type": "code",
   "execution_count": 14,
   "metadata": {},
   "outputs": [
    {
     "name": "stdout",
     "output_type": "stream",
     "text": [
      "[2, 4, 6, 'Kittu', 8, 'Neetu']\n"
     ]
    }
   ],
   "source": [
    "list1 = [2, 6, 8, 4, \"Neetu\", 6, 2, 8, \"Kittu\"]\n",
    "list1 = list(set(list1))\n",
    "print(list1)\n"
   ]
  },
  {
   "cell_type": "markdown",
   "metadata": {},
   "source": [
    "**Remove set item**"
   ]
  },
  {
   "cell_type": "code",
   "execution_count": 1,
   "metadata": {},
   "outputs": [
    {
     "name": "stdout",
     "output_type": "stream",
     "text": [
      "{'Guava', 'Mango', 'Apple'}\n"
     ]
    }
   ],
   "source": [
    "set1={\"Apple\",\"Orange\",\"Guava\",\"Mango\"}\n",
    "set1.remove(\"Orange\")\n",
    "print(set1)"
   ]
  },
  {
   "cell_type": "code",
   "execution_count": 2,
   "metadata": {},
   "outputs": [
    {
     "name": "stdout",
     "output_type": "stream",
     "text": [
      "{'Guava', 'Mango', 'Apple'}\n"
     ]
    }
   ],
   "source": [
    "set1={\"Apple\",\"Orange\",\"Guava\",\"Mango\"}\n",
    "set1.discard(\"Orange\")\n",
    "print(set1)"
   ]
  },
  {
   "cell_type": "code",
   "execution_count": 3,
   "metadata": {},
   "outputs": [
    {
     "name": "stdout",
     "output_type": "stream",
     "text": [
      "{'Mango', 'Orange', 'Apple'}\n"
     ]
    }
   ],
   "source": [
    "# pop() remove random elements from a set\n",
    "set1={\"Apple\",\"Orange\",\"Guava\",\"Mango\"}\n",
    "set1.pop()\n",
    "print(set1)"
   ]
  },
  {
   "cell_type": "code",
   "execution_count": 6,
   "metadata": {},
   "outputs": [
    {
     "name": "stdout",
     "output_type": "stream",
     "text": [
      "set()\n"
     ]
    }
   ],
   "source": [
    "set1={\"Apple\",\"Orange\",\"Guava\",\"Mango\"}\n",
    "set1.clear()\n",
    "print(set1)\n"
   ]
  },
  {
   "cell_type": "code",
   "execution_count": 8,
   "metadata": {},
   "outputs": [],
   "source": [
    "set1={\"Apple\",\"Orange\",\"Guava\",\"Mango\"}\n",
    "del set1\n"
   ]
  },
  {
   "cell_type": "markdown",
   "metadata": {},
   "source": [
    "**Set operation**"
   ]
  },
  {
   "cell_type": "code",
   "execution_count": null,
   "metadata": {},
   "outputs": [],
   "source": [
    "# Set support various operation such as Union, Intresection, differences"
   ]
  }
 ],
 "metadata": {
  "kernelspec": {
   "display_name": "Python 3",
   "language": "python",
   "name": "python3"
  },
  "language_info": {
   "codemirror_mode": {
    "name": "ipython",
    "version": 3
   },
   "file_extension": ".py",
   "mimetype": "text/x-python",
   "name": "python",
   "nbconvert_exporter": "python",
   "pygments_lexer": "ipython3",
   "version": "3.10.1"
  }
 },
 "nbformat": 4,
 "nbformat_minor": 2
}
