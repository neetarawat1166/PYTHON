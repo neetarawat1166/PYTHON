{
 "cells": [
  {
   "cell_type": "markdown",
   "metadata": {},
   "source": [
    "**SYNTAX**"
   ]
  },
  {
   "cell_type": "code",
   "execution_count": 3,
   "metadata": {},
   "outputs": [
    {
     "name": "stdout",
     "output_type": "stream",
     "text": [
      "Hello Neetu!\n"
     ]
    }
   ],
   "source": [
    "def greet(name):\n",
    "    print(\"Hello\"+name+\"!\")\n",
    "\n",
    "#Calling a function\n",
    "greet(\" Neetu\")"
   ]
  },
  {
   "cell_type": "markdown",
   "metadata": {},
   "source": [
    "**Addition**"
   ]
  },
  {
   "cell_type": "code",
   "execution_count": 8,
   "metadata": {},
   "outputs": [
    {
     "name": "stdout",
     "output_type": "stream",
     "text": [
      "9\n"
     ]
    }
   ],
   "source": [
    "def addition(x,y):\n",
    "    result = x+y\n",
    "    return result\n",
    "#Calling fucntion\n",
    "addition1 = addition(4,5)\n",
    "print(addition1)"
   ]
  },
  {
   "cell_type": "code",
   "execution_count": 12,
   "metadata": {},
   "outputs": [
    {
     "name": "stdout",
     "output_type": "stream",
     "text": [
      "Sum is 10\n"
     ]
    }
   ],
   "source": [
    "#Asking from user\n",
    "\n",
    "def addition(x,y):\n",
    "    result = x+y\n",
    "    return result\n",
    "#Calling fucntion\n",
    "a=int(input(\"ENter firdt value\"))\n",
    "b=int(input(\"ENter second value\"))\n",
    "addition1 = addition(a,b)\n",
    "print(\"Sum is \"+str(addition1))"
   ]
  },
  {
   "cell_type": "code",
   "execution_count": 13,
   "metadata": {},
   "outputs": [
    {
     "name": "stdout",
     "output_type": "stream",
     "text": [
      "Red\n",
      "Green\n",
      "Blue\n",
      "Pink\n"
     ]
    }
   ],
   "source": [
    "def my_function(color):\n",
    "  for x in color:\n",
    "    print(x)\n",
    "\n",
    "colors = [\"Red\", \"Green\", \"Blue\",\"Pink\"]\n",
    "\n",
    "my_function(colors)"
   ]
  },
  {
   "cell_type": "code",
   "execution_count": 17,
   "metadata": {},
   "outputs": [
    {
     "name": "stdout",
     "output_type": "stream",
     "text": [
      "Odd number : 1\n",
      "Even number : 2\n",
      "Odd number : 3\n",
      "Even number : 4\n",
      "Odd number : 5\n",
      "Even number : 6\n",
      "Odd number : 7\n",
      "Even number : 8\n",
      "Odd number : 9\n",
      "Even number : 10\n"
     ]
    }
   ],
   "source": [
    "def my_function(num):\n",
    "  for x in num:\n",
    "    if x%2==0:\n",
    "      print(\"Even number : \"+str(x))\n",
    "    else:\n",
    "      print(\"Odd number : \"+str(x))\n",
    "\n",
    "numbers = [1,2,3,4,5,6,7,8,9,10]\n",
    "\n",
    "my_function(numbers)"
   ]
  },
  {
   "cell_type": "code",
   "execution_count": null,
   "metadata": {},
   "outputs": [],
   "source": []
  }
 ],
 "metadata": {
  "kernelspec": {
   "display_name": "Python 3",
   "language": "python",
   "name": "python3"
  },
  "language_info": {
   "codemirror_mode": {
    "name": "ipython",
    "version": 3
   },
   "file_extension": ".py",
   "mimetype": "text/x-python",
   "name": "python",
   "nbconvert_exporter": "python",
   "pygments_lexer": "ipython3",
   "version": "3.10.1"
  }
 },
 "nbformat": 4,
 "nbformat_minor": 2
}
